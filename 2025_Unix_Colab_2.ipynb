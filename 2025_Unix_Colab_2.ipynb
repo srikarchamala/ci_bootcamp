{
  "nbformat": 4,
  "nbformat_minor": 0,
  "metadata": {
    "colab": {
      "provenance": []
    },
    "kernelspec": {
      "name": "python3",
      "display_name": "Python 3"
    },
    "language_info": {
      "name": "python"
    }
  },
  "cells": [
    {
      "cell_type": "markdown",
      "source": [
        "[![Open In Colab](https://colab.research.google.com/assets/colab-badge.svg)](https://colab.research.google.com/github/SrikarChamala/ci_bootcamp/blob/main/2025_Unix_Colab.ipynb)"
      ],
      "metadata": {
        "id": "OGxyNNHreDt6"
      }
    },
    {
      "cell_type": "markdown",
      "source": [
        "1. Install all needed packages and class exercise data files"
      ],
      "metadata": {
        "id": "k__lKqlNnyf8"
      }
    },
    {
      "cell_type": "code",
      "execution_count": 83,
      "metadata": {
        "colab": {
          "base_uri": "https://localhost:8080/"
        },
        "id": "dU9YV8r0nKKs",
        "outputId": "576c9a1e-c729-4f1d-8bfa-d53053ac7c26"
      },
      "outputs": [
        {
          "output_type": "stream",
          "name": "stdout",
          "text": [
            "\r0% [Working]\r            \rHit:1 https://cloud.r-project.org/bin/linux/ubuntu jammy-cran40/ InRelease\n",
            "Hit:2 https://developer.download.nvidia.com/compute/cuda/repos/ubuntu2204/x86_64  InRelease\n",
            "Hit:3 http://archive.ubuntu.com/ubuntu jammy InRelease\n",
            "Hit:4 https://r2u.stat.illinois.edu/ubuntu jammy InRelease\n",
            "Hit:5 http://security.ubuntu.com/ubuntu jammy-security InRelease\n",
            "Hit:6 http://archive.ubuntu.com/ubuntu jammy-updates InRelease\n",
            "Hit:7 http://archive.ubuntu.com/ubuntu jammy-backports InRelease\n",
            "Hit:8 https://ppa.launchpadcontent.net/deadsnakes/ppa/ubuntu jammy InRelease\n",
            "Hit:9 https://ppa.launchpadcontent.net/graphics-drivers/ppa/ubuntu jammy InRelease\n",
            "Hit:10 https://ppa.launchpadcontent.net/ubuntugis/ppa/ubuntu jammy InRelease\n",
            "Reading package lists... Done\n",
            "W: Skipping acquire of configured file 'main/source/Sources' as repository 'https://r2u.stat.illinois.edu/ubuntu jammy InRelease' does not seem to provide it (sources.list entry misspelt?)\n",
            "Reading package lists... Done\n",
            "Building dependency tree... Done\n",
            "Reading state information... Done\n",
            "man-db is already the newest version (2.10.2-1).\n",
            "0 upgraded, 0 newly installed, 0 to remove and 35 not upgraded.\n",
            "This system has been minimized by removing packages and content that are\n",
            "not required on a system that users do not log into.\n",
            "\n",
            "This script restores content and packages that are found on a default\n",
            "Ubuntu server system in order to make this system more suitable for\n",
            "interactive use.\n",
            "\n",
            "Reinstallation of packages may fail due to changes to the system\n",
            "configuration, the presence of third-party packages, or for other\n",
            "reasons.\n",
            "\n",
            "This operation may take some time.\n",
            "\n",
            "\n",
            "/root\n",
            "--2025-08-12 20:13:47--  https://github.com/srikarchamala/ci_bootcamp/blob/main/Surgical_2009.csv\n",
            "Resolving github.com (github.com)... 140.82.116.3\n",
            "Connecting to github.com (github.com)|140.82.116.3|:443... connected.\n",
            "HTTP request sent, awaiting response... 200 OK\n",
            "Length: unspecified [text/html]\n",
            "Saving to: ‘Surgical_2009.csv’\n",
            "\n",
            "Surgical_2009.csv       [ <=>                ] 346.19K  --.-KB/s    in 0.03s   \n",
            "\n",
            "2025-08-12 20:13:48 (9.71 MB/s) - ‘Surgical_2009.csv’ saved [354500]\n",
            "\n",
            "/root\n",
            "total 8.0K\n",
            "drwxr-xr-x 2 root root 4.0K Aug 12 20:13 chamala\n",
            "dr-xr-xr-x 2 root root 4.0K Aug 12 20:13 class_data\n"
          ]
        }
      ],
      "source": [
        "# Install required packages\n",
        "!apt-get update\n",
        "!apt install man-db\n",
        "! yes | sudo unminimize\n",
        "!rm -r /root/*\n",
        "\n",
        "#!rm -r /content/*\n",
        "\n",
        "%cd\n",
        "!mkdir class_data\n",
        "!mkdir chamala\n",
        "!wget https://github.com/srikarchamala/ci_bootcamp/blob/main/Surgical_2009.csv\n",
        "!mv Surgical_2009.csv class_data\n",
        "!chmod 555 class_data\n",
        "\n",
        "!pwd\n",
        "!ls -lrth\n",
        "!cd\n",
        "\n"
      ]
    },
    {
      "cell_type": "markdown",
      "source": [
        "# **BREAKOUT ROOM 1 - Exercises**"
      ],
      "metadata": {
        "id": "aIC3LAZ6O3_O"
      }
    },
    {
      "cell_type": "markdown",
      "source": [
        "**1.1. As soon as you login to Unix server (Colab server), how do you check which directory you landed in?**\n"
      ],
      "metadata": {
        "id": "n2P_cp9TPKKn"
      }
    },
    {
      "cell_type": "code",
      "source": [
        "#Show your work here\n",
        "\n",
        "\n",
        "\n",
        "\n",
        "\n"
      ],
      "metadata": {
        "id": "37nLH_1-M3GO"
      },
      "execution_count": null,
      "outputs": []
    },
    {
      "cell_type": "markdown",
      "source": [
        "**1.2. What command do you use to go to “/root/class_data” folder? This is where datasets used in the class reside.**"
      ],
      "metadata": {
        "id": "5ZDt-E5WQA44"
      }
    },
    {
      "cell_type": "code",
      "source": [
        "#Show your work here\n",
        "\n",
        "\n",
        "\n",
        "\n"
      ],
      "metadata": {
        "id": "oXx_ydcrP_Yz"
      },
      "execution_count": null,
      "outputs": []
    },
    {
      "cell_type": "markdown",
      "source": [
        "**1.3. Once you are in the directory were class data sets (see 1.2), give one command line method that you would use to reach your home folder? What is the proof that you actually went to your home folder? Bonus: Do a Google search and find out other way to go to Home folder in UNIX.**"
      ],
      "metadata": {
        "id": "XlyZoyLKRdpq"
      }
    },
    {
      "cell_type": "code",
      "source": [
        "#Show your work here\n",
        "\n",
        "\n",
        "\n"
      ],
      "metadata": {
        "id": "bn4R_d4FUNCT"
      },
      "execution_count": null,
      "outputs": []
    },
    {
      "cell_type": "markdown",
      "source": [
        "**1.4. How can you list the directories and folders in the root directory (/) of a Unix system?? Also, how do you list them one folder on each line by ascending order of modified time i.e., most recently modified directory should be displayed at the end?**"
      ],
      "metadata": {
        "id": "-0n1q-ThUYJy"
      }
    },
    {
      "cell_type": "code",
      "source": [
        "#Show your work here\n",
        "\n",
        "\n"
      ],
      "metadata": {
        "id": "LdviahgxUXhh"
      },
      "execution_count": null,
      "outputs": []
    },
    {
      "cell_type": "markdown",
      "source": [
        "**1.5. Find out which version of the \"man\" and \"ls\" Unix command line software are being used on the current terminal/sytem that you are using? Does it matter which version of the software you are using? Note: Google search.**"
      ],
      "metadata": {
        "id": "QLFHpe8sVQlU"
      }
    },
    {
      "cell_type": "code",
      "source": [
        "#Show your work here\n",
        "\n",
        "\n"
      ],
      "metadata": {
        "id": "ji_wZmXAbkPm"
      },
      "execution_count": null,
      "outputs": []
    },
    {
      "cell_type": "markdown",
      "source": [
        "# **BREAKOUT ROOM 2 - Exercises**"
      ],
      "metadata": {
        "id": "YrI3ypJXcKHd"
      }
    },
    {
      "cell_type": "markdown",
      "source": [
        "**2.\tYou want to start a new assignment project without modifying any content in the \"class_data\" folder. Also, your work directory is \"/root/chamala\"**\n"
      ],
      "metadata": {
        "id": "3NEn7QitdP63"
      }
    },
    {
      "cell_type": "markdown",
      "source": [
        "**2.1.\tSo, copy the data folder from \"/root/class_data\" folder to a new folder in your work directory and rename it to \"module2_data_sets\".**"
      ],
      "metadata": {
        "id": "EBbRnD5TddDd"
      }
    },
    {
      "cell_type": "code",
      "source": [
        "#Show your work here\n",
        "\n",
        "\n"
      ],
      "metadata": {
        "id": "bqj2LVcRe_fZ"
      },
      "execution_count": null,
      "outputs": []
    },
    {
      "cell_type": "markdown",
      "source": [
        "**2.2.\tTo make sure we have all the data cloned properly, please display the list of files recursively in \"module2_data_sets\" folder.**\n"
      ],
      "metadata": {
        "id": "PcMikWlyfBxw"
      }
    },
    {
      "cell_type": "code",
      "source": [
        "#Show your work here\n",
        "\n",
        "\n"
      ],
      "metadata": {
        "id": "TilxGeHSfBMA"
      },
      "execution_count": null,
      "outputs": []
    },
    {
      "cell_type": "markdown",
      "source": [
        "**1.3.\t You were notified that \"Surgical_2009.csv\" in \"module2_data_sets\" folder was mislabeled; the correct file name should be \"Surgical_2009_V1.csv\" so correct the file name.**\n",
        "\n",
        "\n",
        "\n"
      ],
      "metadata": {
        "id": "n7v6Ywuhe7CW"
      }
    },
    {
      "cell_type": "code",
      "source": [
        "#Show your work here\n",
        "\n",
        "\n"
      ],
      "metadata": {
        "id": "K9bgcglhgFai"
      },
      "execution_count": null,
      "outputs": []
    },
    {
      "cell_type": "markdown",
      "source": [
        "**3.\tContinuing to work in \"module2_data_sets\" folder from previous exercise in your work directory.**"
      ],
      "metadata": {
        "id": "r9DKrgg2gEff"
      }
    },
    {
      "cell_type": "markdown",
      "source": [
        "**3.1.\tSo far you haven’t seen the content of \"Surgical_2009_V1.csv\". Give four ways to peek into the content of the file.  What are first two lines and last lines of this file.**\n"
      ],
      "metadata": {
        "id": "QBE3hOjmgRdk"
      }
    },
    {
      "cell_type": "code",
      "source": [
        "#Show your work here\n",
        "\n",
        "\n",
        "\n"
      ],
      "metadata": {
        "id": "sogtHEuFgeV4"
      },
      "execution_count": null,
      "outputs": []
    },
    {
      "cell_type": "markdown",
      "source": [
        "**3.2.\tYour friend from Mayo Clinic contacts you and asks you to send a sample data file consisting of the first and last 5 lines of \"Surgical_2014.csv\".  How would you build the sample file \"Sample_2014.csv\" for sending to your friend.**\n"
      ],
      "metadata": {
        "id": "gxGP-vHigg7K"
      }
    },
    {
      "cell_type": "code",
      "source": [
        "#Show your work here\n",
        "\n",
        "\n",
        "\n"
      ],
      "metadata": {
        "id": "VWR_4-1KgsRg"
      },
      "execution_count": null,
      "outputs": []
    },
    {
      "cell_type": "markdown",
      "source": [
        "**3.3.\tA couple of days later your friend from Mayo Clinic contacts you again and asks you to send a sample data file adding the first and last 5 lines of “Medical_2014.csv\" to previously generated \"Sample_2014.csv\".**"
      ],
      "metadata": {
        "id": "FV8b6ldDgu9r"
      }
    },
    {
      "cell_type": "code",
      "source": [
        "#Show your work here\n",
        "\n",
        "\n",
        "\n"
      ],
      "metadata": {
        "id": "JmEjNbCKg2kF"
      },
      "execution_count": null,
      "outputs": []
    },
    {
      "cell_type": "markdown",
      "source": [
        "**4.\tContinuing to work in \"module2_data_sets\" folder from previous exercise.**\n"
      ],
      "metadata": {
        "id": "-m3ucYtUg5mj"
      }
    },
    {
      "cell_type": "markdown",
      "source": [
        "\n",
        "**4.1.\tWhich hospitals have largest number of patients in the 2009 surgical category?**\n"
      ],
      "metadata": {
        "id": "h9jrpJ2NhZgN"
      }
    },
    {
      "cell_type": "code",
      "source": [
        "#Show your work here\n",
        "\n",
        "\n"
      ],
      "metadata": {
        "id": "N9AD_xSQhXW6"
      },
      "execution_count": null,
      "outputs": []
    },
    {
      "cell_type": "markdown",
      "source": [
        "**4.2.\tWhen all the city names in the 2009 surgical category are arranged in descending order, what would be the city listed on the first line?**\n",
        "\n"
      ],
      "metadata": {
        "id": "qZs3rWu4g0u3"
      }
    },
    {
      "cell_type": "code",
      "source": [
        "#Show your work here\n",
        "\n",
        "\n"
      ],
      "metadata": {
        "id": "wMXAD_mJh45Y"
      },
      "execution_count": null,
      "outputs": []
    },
    {
      "cell_type": "markdown",
      "source": [
        "**4.3.\tHow many records are present in the 2009 surgical category file?**"
      ],
      "metadata": {
        "id": "XcEjo6xChzOx"
      }
    },
    {
      "cell_type": "code",
      "source": [
        "#Show your work here\n",
        "\n",
        "\n",
        "\n"
      ],
      "metadata": {
        "id": "XGPYMcfOiFN9"
      },
      "execution_count": null,
      "outputs": []
    },
    {
      "cell_type": "markdown",
      "source": [
        "**4.4.\tHow many words are present in the 2009 surgical category file?**"
      ],
      "metadata": {
        "id": "IrNB1ojPiIaq"
      }
    },
    {
      "cell_type": "code",
      "source": [
        "#Show your work here\n",
        "\n",
        "\n",
        "\n"
      ],
      "metadata": {
        "id": "210xg6iBiPo9"
      },
      "execution_count": null,
      "outputs": []
    },
    {
      "cell_type": "markdown",
      "source": [
        "**4.5.\t Which hospital have largest percent of patients readmitted within 30 days of hospital discharge for 2009 surgical category?**"
      ],
      "metadata": {
        "id": "IhFJxUeWiShd"
      }
    },
    {
      "cell_type": "code",
      "source": [
        "#Show your work here\n",
        "\n",
        "\n"
      ],
      "metadata": {
        "id": "glR6uGk7ieVg"
      },
      "execution_count": null,
      "outputs": []
    },
    {
      "cell_type": "markdown",
      "source": [
        "**4.6.\tData from how many cities are represented in 2009 surgical category file?**"
      ],
      "metadata": {
        "id": "YXGIBCTBifqz"
      }
    },
    {
      "cell_type": "code",
      "source": [
        "#Show your work here\n",
        "\n",
        "\n"
      ],
      "metadata": {
        "id": "I9l_O3Rpirfa"
      },
      "execution_count": null,
      "outputs": []
    },
    {
      "cell_type": "markdown",
      "source": [
        " **4.7.\t Data from how many states are represented in 2009 surgical category file?**\n",
        "\n"
      ],
      "metadata": {
        "id": "jR5E6y80ioSm"
      }
    },
    {
      "cell_type": "code",
      "source": [
        "#Show your work here\n",
        "\n",
        "\n"
      ],
      "metadata": {
        "id": "Uchvo1POi8iT"
      },
      "execution_count": null,
      "outputs": []
    },
    {
      "cell_type": "markdown",
      "source": [
        "**4.8.\t How many of the hospitals in 2009 surgical category file are academic medical centers?**\n"
      ],
      "metadata": {
        "id": "zMLc_BPni-LN"
      }
    },
    {
      "cell_type": "code",
      "source": [
        "#Show your work here\n",
        "\n",
        "\n"
      ],
      "metadata": {
        "id": "wZmFfCWGjFA4"
      },
      "execution_count": null,
      "outputs": []
    }
  ]
}